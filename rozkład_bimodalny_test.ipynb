{
 "cells": [
  {
   "cell_type": "code",
   "execution_count": 4,
   "metadata": {},
   "outputs": [],
   "source": [
    "import numpy as np\n",
    "import matplotlib.pyplot as plt"
   ]
  },
  {
   "cell_type": "code",
   "execution_count": 5,
   "metadata": {},
   "outputs": [],
   "source": [
    "n_bins = 50 #liczba słupków\n",
    "n_samples = 50000"
   ]
  },
  {
   "cell_type": "markdown",
   "metadata": {},
   "source": [
    "# Rozkład normalny"
   ]
  },
  {
   "cell_type": "code",
   "execution_count": 16,
   "metadata": {},
   "outputs": [
    {
     "data": {
      "image/png": "[encoded data removed]",
      "text/plain": [
       "<Figure size 432x288 with 1 Axes>"
      ]
     },
     "metadata": {
      "needs_background": "light"
     },
     "output_type": "display_data"
    },
    {
     "data": {
      "text/plain": [
       "array([ 0.0278846 ,  0.00582338,  0.10211232, ...,  0.14404875,\n",
       "       -0.2381013 ,  0.01340043])"
      ]
     },
     "execution_count": 16,
     "metadata": {},
     "output_type": "execute_result"
    }
   ],
   "source": [
    "#rozkład normalny\n",
    "mu, sigma = 0, 0.1 # mean and standard deviation\n",
    "s = np.random.normal(mu, sigma, n_samples)\n",
    "plt.hist(s, n_bins, density=True)\n",
    "plt.show()\n",
    "s"
   ]
  },
  {
   "cell_type": "markdown",
   "metadata": {},
   "source": [
    "## Rozkład bimodalny"
   ]
  },
  {
   "cell_type": "code",
   "execution_count": 10,
   "metadata": {},
   "outputs": [
    {
     "data": {
      "image/png": "[encoded data removed]",
      "text/plain": [
       "<Figure size 432x288 with 1 Axes>"
      ]
     },
     "metadata": {
      "needs_background": "light"
     },
     "output_type": "display_data"
    }
   ],
   "source": [
    " #\"rozdzielenie\" wierzchołków\n",
    "delta = 10\n",
    "\n",
    "#Parametry składowych normalnych rozkładu\n",
    "loc1=0\n",
    "mu1, sigma1 = (loc1, 2)\n",
    "mu2, sigma2 = (loc1+delta, 2)\n",
    "p = 0.5\n",
    "no_samples =  n_samples\n",
    "\n",
    "#Liczba próbek wylosowanych z każdego z rozkładów zgodnie ze współczynnikiem połączenia\n",
    "size1 = int(no_samples*p)\n",
    "size2 = int(no_samples*(1-p))\n",
    "\n",
    "#Wylosowanie liczb zgodnie z żądanym rozkładem\n",
    "x2 = np.concatenate([np.random.normal(loc=mu1, scale=sigma1,\n",
    "size=size1),\n",
    " np.random.normal(loc=mu2, scale=sigma2,\n",
    "size=size2)])\n",
    "plt.hist(x2, n_bins, density=True)\n",
    "plt.show()"
   ]
  },
  {
   "cell_type": "markdown",
   "metadata": {},
   "source": [
    "# Rozkład logarytmicznie normalny"
   ]
  },
  {
   "cell_type": "code",
   "execution_count": 13,
   "metadata": {},
   "outputs": [
    {
     "data": {
      "image/png": "[encoded data removed]",
      "text/plain": [
       "<Figure size 432x288 with 1 Axes>"
      ]
     },
     "metadata": {
      "needs_background": "light"
     },
     "output_type": "display_data"
    }
   ],
   "source": [
    "#rozkład normalny\n",
    "mu, sigma = 0, 0.1 # mean and standard deviation\n",
    "s = np.random.lognormal(mu, sigma,  n_samples)\n",
    "plt.hist(s, n_bins, density=True)\n",
    "plt.show()"
   ]
  },
  {
   "cell_type": "markdown",
   "metadata": {},
   "source": [
    "## Rozkład bimodalny"
   ]
  },
  {
   "cell_type": "code",
   "execution_count": 12,
   "metadata": {},
   "outputs": [
    {
     "data": {
      "image/png": "[encoded data removed]",
      "text/plain": [
       "<Figure size 432x288 with 1 Axes>"
      ]
     },
     "metadata": {
      "needs_background": "light"
     },
     "output_type": "display_data"
    }
   ],
   "source": [
    " #\"rozdzielenie\" wierzchołków\n",
    "delta = 0.07\n",
    "\n",
    "#Parametry składowych normalnych rozkładu\n",
    "mean1 = 0.01\n",
    "mu1, sigma1 = (mean1, 0.02)\n",
    "mu2, sigma2 = (mean1+delta, 0.02)\n",
    "p = 0.5\n",
    "no_samples =  n_samples\n",
    "#Liczba próbek wylosowanych z każdego z rozkładów zgodnie ze współczynnikiem połączenia\n",
    "size1 = int(no_samples*p)\n",
    "size2 = int(no_samples*(1-p))\n",
    "#Wylosowanie liczb zgodnie z żądanym rozkładem\n",
    "x2 = np.concatenate([np.random.lognormal(mean=mu1, sigma=sigma1,\n",
    "size=size1),\n",
    " np.random.lognormal(mean=mu2, sigma=sigma2,\n",
    "size=size2)])\n",
    "plt.hist(x2, n_bins, density=True)\n",
    "plt.show()"
   ]
  },
  {
   "cell_type": "code",
   "execution_count": 18,
   "metadata": {},
   "outputs": [
    {
     "data": {
      "image/png": "[encoded data removed]",
      "text/plain": [
       "<Figure size 432x288 with 1 Axes>"
      ]
     },
     "metadata": {
      "needs_background": "light"
     },
     "output_type": "display_data"
    }
   ],
   "source": [
    "x3 = [int(x*1000) for x in x2]\n",
    "plt.hist(x3, n_bins, density=True)\n",
    "plt.show()"
   ]
  },
  {
   "cell_type": "markdown",
   "metadata": {},
   "source": [
    "## Generator"
   ]
  },
  {
   "cell_type": "markdown",
   "metadata": {},
   "source": [
    "* x3 - tablica wartości całkowitych wylosowanych dla rozkładu bimodalnego, przy czym, dla dowolnego i < len(x3):\n",
    "    * i - jeden przedział czasowy\n",
    "    * x3[i] - liczba zadań, które pojawią się w przedziale czasowym i  \n",
    "* X - zbiór, który określa dokładny czas rozpoczęcia zadania w danym przedziale czasowym z z przedziału wartości .01-.99"
   ]
  },
  {
   "cell_type": "markdown",
   "metadata": {},
   "source": [
    "Krok1: wygenerowanie tablicy x3"
   ]
  },
  {
   "cell_type": "markdown",
   "metadata": {},
   "source": [
    "Krok2:"
   ]
  },
  {
   "cell_type": "markdown",
   "metadata": {},
   "source": [
    "for i in range(len(x3)):\n",
    "    #j=x3[i] -- liczba zadań, które mają się wykonać w jednostce i\n",
    "    #wygeneruj j wartości losowych t_1, t_2, t_3..., t_j w zbiorze X z rozkładu eksponencjalnego (wykładniczego)\n",
    "    #[do jakiejś globalnej listy zadań] dodaj j nowych zadań, przy czym czas rozpoczęcia zadania k to i+t_k \n",
    "    #czas trwania zadania zależny od obciążenia (?)\n",
    "    "
   ]
  },
  {
   "cell_type": "markdown",
   "metadata": {},
   "source": [
    "Krok3: zapis zadań do pliku"
   ]
  },
  {
   "cell_type": "markdown",
   "metadata": {},
   "source": [
    "# Algorytmy"
   ]
  },
  {
   "cell_type": "markdown",
   "metadata": {},
   "source": [
    "## Nieznany rozmiar zadań, stała wartość DTmax"
   ]
  },
  {
   "cell_type": "code",
   "execution_count": null,
   "metadata": {},
   "outputs": [],
   "source": []
  },
  {
   "cell_type": "markdown",
   "metadata": {},
   "source": [
    "## Nieznany rozmiar zadań, różne wartości DTmax"
   ]
  },
  {
   "cell_type": "code",
   "execution_count": null,
   "metadata": {},
   "outputs": [],
   "source": []
  }
 ],
 "metadata": {
  "kernelspec": {
   "display_name": "Python 3",
   "language": "python",
   "name": "python3"
  },
  "language_info": {
   "codemirror_mode": {
    "name": "ipython",
    "version": 3
   },
   "file_extension": ".py",
   "mimetype": "text/x-python",
   "name": "python",
   "nbconvert_exporter": "python",
   "pygments_lexer": "ipython3",
   "version": "3.7.5"
  }
 },
 "nbformat": 4,
 "nbformat_minor": 4
}
